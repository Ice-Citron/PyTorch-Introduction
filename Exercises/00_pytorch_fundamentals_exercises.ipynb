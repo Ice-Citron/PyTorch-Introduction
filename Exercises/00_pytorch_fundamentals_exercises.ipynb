{
  "nbformat": 4,
  "nbformat_minor": 0,
  "metadata": {
    "colab": {
      "provenance": [],
      "gpuType": "T4"
    },
    "kernelspec": {
      "name": "python3",
      "display_name": "Python 3"
    },
    "language_info": {
      "name": "python"
    }
  },
  "cells": [
    {
      "cell_type": "markdown",
      "source": [
        "# 00. PyTorch Fundamentals Exercises\n",
        "\n",
        "### 1. Documentation reading\n",
        "\n",
        "A big part of deep learning (and learning to code in general) is getting familiar with the documentation of a certain framework you're using. We'll be using the PyTorch documentation a lot throughout the rest of this course. So I'd recommend spending 10-minutes reading the following (it's okay if you don't get some things for now, the focus is not yet full understanding, it's awareness):\n",
        "  * The documentation on [`torch.Tensor`](https://pytorch.org/docs/stable/tensors.html#torch-tensor).\n",
        "  * The documentation on [`torch.cuda`](https://pytorch.org/docs/master/notes/cuda.html#cuda-semantics).\n",
        "\n"
      ],
      "metadata": {
        "id": "AzDBM_v4iMe7"
      }
    },
    {
      "cell_type": "code",
      "source": [
        "# No code solution (reading)\n",
        "\n",
        "\"\"\"\n",
        "import torch\n",
        "\n",
        "cuda = torch.device('cuda')     # Default CUDA device, default GPU, cuda:0 in this case.\n",
        "cuda0 = torch.device('cuda:0')\n",
        "cuda1 = torch.device('cuda:1')  # GPU 2 (these are 0-indexed)\n",
        "\n",
        "### CUDA Semantics trail testing --- REFER to MISC notes in fundamentals.ipynb\n",
        "x = torch.tensor([1., 2.], device=cuda)\n",
        "# x.device is device(type='cuda', index=0)\n",
        "y = torch.tensor([1., 2])\n",
        "# y.device is device(type='cuda', index=0)\n",
        "\n",
        "print(x.device, y.device, '\\n')\n",
        "\n",
        "y = y.cuda() # as seen, .cuda() results in tensor transferred from CPU to GPU\n",
        "print(y.device)\n",
        "\n",
        "z = torch.rand(3, 3).cuda()\n",
        "print(z.device)\n",
        "z = z.to('cuda:0')\n",
        "print(z.device)\n",
        "\"\"\"\n",
        "\"\"\"\n",
        "with torch.cuda.device(1):\n",
        "    # allocates a tensor on GPU 1\n",
        "    a = torch.tensor([1., 2.], device=cuda)\n",
        "    print(a, a.device)\n",
        "\n",
        "    # transfers a tensor from CPU to GPU 1\n",
        "    b = torch.tensor([1., 2.]).cuda()\n",
        "    # a.device and b.device are device(type='cuda', index=1)\n",
        "\n",
        "    # You can also use ``Tensor.to`` to transfer a tensor:\n",
        "    b2 = torch.tensor([1., 2.]).to(device=cuda)\n",
        "    # b.device and b2.device are device(type='cuda', index=1)\n",
        "\n",
        "    c = a + b\n",
        "    # c.device is device(type='cuda', index=1)\n",
        "\n",
        "    z = x + y\n",
        "    # z.device is device(type='cuda', index=0)\n",
        "\n",
        "    # even within a context, you can specify the device\n",
        "    # (or give a GPU index to the .cuda call)\n",
        "    d = torch.randn(2, device=cuda2)\n",
        "    e = torch.randn(2).to(cuda2)\n",
        "    f = torch.randn(2).cuda(cuda2)\n",
        "    # d.device, e.device, and f.device are all device(type='cuda', index=2)\n",
        "\"\"\"\n",
        "#print('\\n', cuda, cuda0, cuda1)\n",
        "print()\n"
      ],
      "metadata": {
        "id": "bGD0oD8Kizak",
        "colab": {
          "base_uri": "https://localhost:8080/"
        },
        "outputId": "2bff60c4-2ff3-4be1-cfc3-88924d1add56"
      },
      "execution_count": null,
      "outputs": [
        {
          "output_type": "stream",
          "name": "stdout",
          "text": [
            "\n"
          ]
        }
      ]
    },
    {
      "cell_type": "markdown",
      "source": [
        "### 2. Create a random tensor with shape `(7, 7)`.\n"
      ],
      "metadata": {
        "id": "__iXqqz-ioUJ"
      }
    },
    {
      "cell_type": "code",
      "source": [
        "# Import torch\n",
        "import torch\n",
        "\n",
        "# Create random tensor\n",
        "tensor_A = torch.rand(7, 7)"
      ],
      "metadata": {
        "id": "6pUq9Dc8i2L7"
      },
      "execution_count": null,
      "outputs": []
    },
    {
      "cell_type": "markdown",
      "source": [
        "### 3. Perform a matrix multiplication on the tensor from 2 with another random tensor with shape `(1, 7)` (hint: you may have to transpose the second tensor)."
      ],
      "metadata": {
        "id": "9-XxvRLfiqkR"
      }
    },
    {
      "cell_type": "code",
      "source": [
        "# Create another random tensor\n",
        "\n",
        "tensor_B = torch.rand(1, 7)\n",
        "tensor_B = tensor_B.T  # transpose tensor_B\n",
        "\n",
        "print(tensor_A)\n",
        "print(tensor_B, '\\n')\n",
        "\n",
        "# Perform matrix multiplication\n",
        "print(torch.matmul(tensor_A, tensor_B))\n",
        "print(tensor_A @ tensor_B)"
      ],
      "metadata": {
        "id": "NcLqR0Sbi_vT"
      },
      "execution_count": null,
      "outputs": []
    },
    {
      "cell_type": "markdown",
      "source": [
        "### 4. Set the random seed to `0` and do 2 & 3 over again.\n",
        "\n",
        "The output should be:\n",
        "```\n",
        "(tensor([[1.8542],\n",
        "         [1.9611],\n",
        "         [2.2884],\n",
        "         [3.0481],\n",
        "         [1.7067],\n",
        "         [2.5290],\n",
        "         [1.7989]]), torch.Size([7, 1]))\n",
        "```"
      ],
      "metadata": {
        "id": "eiutdKUFiryU"
      }
    },
    {
      "cell_type": "code",
      "source": [
        "# Set manual seed\n",
        "torch.manual_seed(0)\n",
        "\n",
        "# Create two random tensors\n",
        "tensor_A = torch.rand(7, 7)\n",
        "tensor_B = torch.rand(1, 7).T #transpose to be multipliable\n",
        "\n",
        "# Matrix multiply tensors\n",
        "print(tensor_A @ tensor_B)"
      ],
      "metadata": {
        "id": "D-lOWI_1jRMm"
      },
      "execution_count": null,
      "outputs": []
    },
    {
      "cell_type": "markdown",
      "source": [
        "### 5. Speaking of random seeds, we saw how to set it with `torch.manual_seed()` but is there a GPU equivalent? (hint: you'll need to look into the documentation for `torch.cuda` for this one)\n",
        "  * If there is, set the GPU random seed to `1234`."
      ],
      "metadata": {
        "id": "ezY6ks9Cis37"
      }
    },
    {
      "cell_type": "code",
      "source": [
        "# Set random seed on the GPU\n"
      ],
      "metadata": {
        "id": "_LKWcfSTjp00"
      },
      "execution_count": null,
      "outputs": []
    },
    {
      "cell_type": "markdown",
      "source": [
        "\n",
        "### 6. Create two random tensors of shape `(2, 3)` and send them both to the GPU (you'll need access to a GPU for this). Set `torch.manual_seed(1234)` when creating the tensors (this doesn't have to be the GPU random seed). The output should be something like:\n",
        "\n",
        "```\n",
        "Device: cuda\n",
        "(tensor([[0.0290, 0.4019, 0.2598],\n",
        "         [0.3666, 0.0583, 0.7006]], device='cuda:0'),\n",
        " tensor([[0.0518, 0.4681, 0.6738],\n",
        "         [0.3315, 0.7837, 0.5631]], device='cuda:0'))\n",
        "```"
      ],
      "metadata": {
        "id": "Ir9qSaj6it4n"
      }
    },
    {
      "cell_type": "code",
      "source": [
        "# Set random seed\n",
        "\n",
        "\n",
        "# Check for access to GPU\n",
        "\n",
        "# Create two random tensors on GPU\n"
      ],
      "metadata": {
        "id": "azXExiFZj5nm"
      },
      "execution_count": null,
      "outputs": []
    },
    {
      "cell_type": "markdown",
      "source": [
        "\n",
        "### 7. Perform a matrix multiplication on the tensors you created in 6 (again, you may have to adjust the shapes of one of the tensors).\n",
        "\n",
        "The output should look like:\n",
        "```\n",
        "(tensor([[0.3647, 0.4709],\n",
        "         [0.5184, 0.5617]], device='cuda:0'), torch.Size([2, 2]))\n",
        "```"
      ],
      "metadata": {
        "id": "5TlAxeiSiu1y"
      }
    },
    {
      "cell_type": "code",
      "source": [
        "# Perform matmul on tensor_A and tensor_B\n"
      ],
      "metadata": {
        "id": "fAeG7ox0lHEO"
      },
      "execution_count": null,
      "outputs": []
    },
    {
      "cell_type": "markdown",
      "source": [
        "### 8. Find the maximum and minimum values of the output of 7."
      ],
      "metadata": {
        "id": "G7qfa5CSivwg"
      }
    },
    {
      "cell_type": "code",
      "source": [
        "# Find max\n",
        "\n",
        "# Find min\n"
      ],
      "metadata": {
        "id": "Fu8_3mZpllOd"
      },
      "execution_count": null,
      "outputs": []
    },
    {
      "cell_type": "markdown",
      "source": [
        "### 9. Find the maximum and minimum index values of the output of 7."
      ],
      "metadata": {
        "id": "wrTj5FgNiw47"
      }
    },
    {
      "cell_type": "code",
      "source": [
        "# Find arg max\n",
        "\n",
        "\n",
        "# Find arg min\n"
      ],
      "metadata": {
        "id": "CCEKt4K2lsfQ"
      },
      "execution_count": null,
      "outputs": []
    },
    {
      "cell_type": "markdown",
      "source": [
        "\n",
        "### 10. Make a random tensor with shape `(1, 1, 1, 10)` and then create a new tensor with all the `1` dimensions removed to be left with a tensor of shape `(10)`. Set the seed to `7` when you create it and print out the first tensor and it's shape as well as the second tensor and it's shape.\n",
        "\n",
        "The output should look like:\n",
        "\n",
        "```\n",
        "tensor([[[[0.5349, 0.1988, 0.6592, 0.6569, 0.2328, 0.4251, 0.2071, 0.6297,\n",
        "           0.3653, 0.8513]]]]) torch.Size([1, 1, 1, 10])\n",
        "tensor([0.5349, 0.1988, 0.6592, 0.6569, 0.2328, 0.4251, 0.2071, 0.6297, 0.3653,\n",
        "        0.8513]) torch.Size([10])\n",
        "```"
      ],
      "metadata": {
        "id": "hmeybz4uixy7"
      }
    },
    {
      "cell_type": "code",
      "source": [
        "# Set seed\n",
        "\n",
        "\n",
        "# Create random tensor\n",
        "\n",
        "\n",
        "# Remove single dimensions\n",
        "\n",
        "\n",
        "# Print out tensors and their shapes\n"
      ],
      "metadata": {
        "id": "TQ9zbRzVl1jV"
      },
      "execution_count": null,
      "outputs": []
    }
  ]
}